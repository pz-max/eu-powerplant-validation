{
 "cells": [
  {
   "cell_type": "code",
   "execution_count": null,
   "metadata": {},
   "outputs": [],
   "source": [
    "import powerplantmatching as pm \n",
    "import pandas as pd\n",
    "\n",
    "df = pm.powerplants(from_url=True)\n",
    "df['ENTSOE_ID'] = df.projectID.apply(lambda x: x.get(\"ENTSOE\"))\n",
    "pd.DataFrame.to_csv(df, \"ppm-powerplants.csv\")"
   ]
  }
 ],
 "metadata": {
  "interpreter": {
   "hash": "52d85a76b04cf10577660997bca08da8078e3dc19548ecb510f79f4ac5de6b97"
  },
  "kernelspec": {
   "display_name": "Python 3.10.4 ('vali')",
   "language": "python",
   "name": "python3"
  },
  "language_info": {
   "codemirror_mode": {
    "name": "ipython",
    "version": 3
   },
   "file_extension": ".py",
   "mimetype": "text/x-python",
   "name": "python",
   "nbconvert_exporter": "python",
   "pygments_lexer": "ipython3",
   "version": "3.10.4"
  },
  "orig_nbformat": 4
 },
 "nbformat": 4,
 "nbformat_minor": 2
}
