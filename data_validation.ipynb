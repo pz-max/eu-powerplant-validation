{
 "cells": [
  {
   "cell_type": "code",
   "execution_count": null,
   "metadata": {},
   "outputs": [],
   "source": [
    "import pandas as pd\n",
    "import os\n",
    "\n",
    "pd.set_option('display.max_rows', 10)\n",
    "pd.set_option('display.max_columns', 10)"
   ]
  },
  {
   "cell_type": "markdown",
   "metadata": {},
   "source": [
    "## Generation timeseries \n",
    "- Imports timeseries for different timeframes\n",
    "- Converts str into numeric dataframe"
   ]
  },
  {
   "cell_type": "code",
   "execution_count": null,
   "metadata": {},
   "outputs": [],
   "source": [
    "cwd = os.getcwd()\n",
    "generation_2018_path = os.path.join(cwd, \"generation-20180101-20180401.csv\")\n",
    "generation_2019_path = os.path.join(cwd, \"generation-20190101-20190401.csv\")\n",
    "generation_2020_path = os.path.join(cwd, \"generation-20200101-20200401.csv\")\n",
    "generation_2021_path = os.path.join(cwd, \"generation-20210101-20210401.csv\")\n",
    "generation_2022_path = os.path.join(cwd, \"generation-20220101-20220401.csv\")\n",
    "generation_t1_path = os.path.join(cwd, \"generation_gas_germany_2019.csv\")\n",
    "\n",
    "generation_2018 = pd.read_csv(generation_2018_path, index_col=0)\n",
    "generation_2019 = pd.read_csv(generation_2019_path, index_col=0)\n",
    "generation_2020 = pd.read_csv(generation_2020_path, index_col=0)\n",
    "generation_2021 = pd.read_csv(generation_2021_path, index_col=0)\n",
    "generation_2022 = pd.read_csv(generation_2022_path, index_col=0)\n",
    "generation_t1 = pd.read_csv(generation_t1_path, index_col=0)"
   ]
  },
  {
   "cell_type": "code",
   "execution_count": null,
   "metadata": {},
   "outputs": [],
   "source": [
    "generation_2018 = generation_2018.iloc[2:,:]\n",
    "generation_2018 = generation_2018.apply(pd.to_numeric)\n",
    "\n",
    "generation_2019 = generation_2019.iloc[2:,:]\n",
    "generation_2019 = generation_2019.apply(pd.to_numeric)\n",
    "\n",
    "generation_2020 = generation_2020.iloc[2:,:]\n",
    "generation_2020 = generation_2020.apply(pd.to_numeric)\n",
    "\n",
    "generation_2021 = generation_2021.iloc[2:,:]\n",
    "generation_2021 = generation_2021.apply(pd.to_numeric)\n",
    "\n",
    "generation_2022 = generation_2022.iloc[2:,:]\n",
    "generation_2022 = generation_2022.apply(pd.to_numeric)"
   ]
  },
  {
   "cell_type": "code",
   "execution_count": null,
   "metadata": {},
   "outputs": [],
   "source": [
    "df2018 = pd.DataFrame(generation_2018.sum(axis=1).values)\n",
    "df2018[\"year\"] = pd.DatetimeIndex(generation_2018.index.values).year\n",
    "xlabel = pd.DataFrame({'snapshot':pd.date_range(\"2019-01-01\", periods=len(generation_2022), freq=\"H\")})\n",
    "df2018[\"time\"] = xlabel.snapshot.dt.strftime('%d-%B %H:00')\n",
    "\n",
    "df2019 = pd.DataFrame(generation_2019.sum(axis=1).values)\n",
    "df2019[\"year\"] = pd.DatetimeIndex(generation_2019.index.values).year\n",
    "xlabel = pd.DataFrame({'snapshot':pd.date_range(\"2019-01-01\", periods=len(generation_2022), freq=\"H\")})\n",
    "df2019[\"time\"] = xlabel.snapshot.dt.strftime('%d-%B %H:00')\n",
    "\n",
    "df2020 = pd.DataFrame(generation_2020.sum(axis=1).values)\n",
    "df2020[\"year\"] = pd.DatetimeIndex(generation_2020.index.values).year\n",
    "xlabel = pd.DataFrame({'snapshot':pd.date_range(\"2019-01-01\", periods=len(generation_2022), freq=\"H\")})\n",
    "df2020[\"time\"] = xlabel.snapshot.dt.strftime('%d-%B %H:00')\n",
    "\n",
    "df2021 = pd.DataFrame(generation_2021.sum(axis=1).values)\n",
    "df2021[\"year\"] = pd.DatetimeIndex(generation_2021.index.values).year\n",
    "xlabel = pd.DataFrame({'snapshot':pd.date_range(\"2019-01-01\", periods=len(generation_2022), freq=\"H\")})\n",
    "df2021[\"time\"] = xlabel.snapshot.dt.strftime('%d-%B %H:00')\n",
    "\n",
    "df2022 = pd.DataFrame(generation_2022.sum(axis=1).values)\n",
    "df2022[\"year\"] = pd.DatetimeIndex(generation_2022.index.values).year\n",
    "xlabel = pd.DataFrame({'snapshot':pd.date_range(\"2019-01-01\", periods=len(generation_2022), freq=\"H\")})\n",
    "df2022[\"time\"] = xlabel.snapshot.dt.strftime('%d-%B %H:00')\n",
    "\n",
    "\n",
    "frames = [df2018, df2019, df2020, df2021, df2022]\n",
    "df_total = pd.concat(frames).rename(columns={0:\"p\"})\n",
    "df_total = df_total.reset_index().rename(columns={\"index\":\"snapshot\"})\n",
    "df_total[\"p\"] = df_total[\"p\"].rolling(24*7,center=True,min_periods=1).mean()/1000  # 1 week smoothing and GW conversion\n"
   ]
  },
  {
   "cell_type": "code",
   "execution_count": null,
   "metadata": {},
   "outputs": [],
   "source": [
    "import seaborn as sns\n",
    "import matplotlib.pyplot as plt\n",
    "sns.set_theme(style=\"dark\")\n",
    "\n",
    "\n",
    "# Plot each year's time series in its own facet\n",
    "g = sns.relplot(\n",
    "    data=df_total,\n",
    "    x=\"time\", y=\"p\", col=\"year\", hue=\"year\",\n",
    "    kind=\"line\", palette=\"crest\", linewidth=4, zorder=5,\n",
    "    col_wrap=1, height=3, aspect=3, legend=False,\n",
    ")\n",
    "\n",
    "# Iterate over each subplot to customize further\n",
    "for year, ax in g.axes_dict.items():\n",
    "\n",
    "    if year == 2018:\n",
    "        ax.set_title(\"Main power output of EU Combined-Heat and Power plant fleet\")\n",
    "    else:\n",
    "        ax.set_title(\"\")\n",
    "    # Add the title as an annotation within the plot\n",
    "    ax.text(.8, .85, year, transform=ax.transAxes, fontweight=\"bold\")\n",
    "\n",
    "    # Plot every year's time series in the background\n",
    "    sns.lineplot(\n",
    "        data=df_total, x=\"time\", y=\"p\", units=\"year\",\n",
    "        estimator=None, color=\".7\", linewidth=1, ax=ax,\n",
    "    )\n",
    "\n",
    "# Reduce the frequency of the x axis ticks\n",
    "ticks = [\n",
    "df_total[df_total[\"time\"]==\"01-January 00:00\"].index[0],\n",
    "df_total[df_total[\"time\"]==\"01-February 00:00\"].index[0],\n",
    "df_total[df_total[\"time\"]==\"01-March 00:00\"].index[0],\n",
    "df_total[df_total[\"time\"]==\"31-March 00:00\"].index[0],\n",
    "]\n",
    "ax.set_xticks(ticks)\n",
    "\n",
    "# Tweak the supporting aspects of the plot\n",
    "\n",
    "g.set_axis_labels(\"\", \"Power [GW_el]\")\n",
    "g.tight_layout()\n",
    "plt.xlim([0, len(generation_2022)])\n",
    "\n"
   ]
  },
  {
   "cell_type": "code",
   "execution_count": null,
   "metadata": {},
   "outputs": [],
   "source": [
    "[\n",
    "df_total[df_total[\"time\"]==\"01-January 00:00\"].index[0],\n",
    "df_total[df_total[\"time\"]==\"01-February 00:00\"].index[0],\n",
    "df_total[df_total[\"time\"]==\"01-March 00:00\"].index[0],\n",
    "df_total[df_total[\"time\"]==\"31-March 00:00\"].index[0]\n",
    "]"
   ]
  },
  {
   "cell_type": "code",
   "execution_count": null,
   "metadata": {},
   "outputs": [],
   "source": [
    "df_total[\"time\"]"
   ]
  },
  {
   "cell_type": "markdown",
   "metadata": {},
   "source": [
    "## Generation capacity\n",
    "- Import powerplants\n",
    "- Filters Germany\n",
    "- Filter CHP "
   ]
  },
  {
   "cell_type": "code",
   "execution_count": null,
   "metadata": {},
   "outputs": [],
   "source": [
    "cwd = os.getcwd()\n",
    "ppm_generation_path = os.path.join(cwd, \"ppm-powerplants.csv\")\n",
    "pypsaeur_generation_path = os.path.join(cwd, \"pypsaeur-powerplants.csv\")\n",
    "ppm_powerplants = pd.read_csv(ppm_generation_path, index_col=0)\n",
    "ppm_powerplants"
   ]
  },
  {
   "cell_type": "code",
   "execution_count": null,
   "metadata": {},
   "outputs": [],
   "source": [
    "ppm_powerplants = ppm_powerplants.loc[ppm_powerplants[\"Country\"]==\"Germany\", :]\n",
    "ppm_powerplants = ppm_powerplants.loc[ppm_powerplants[\"Set\"]==\"CHP\", :]\n",
    "ppm_powerplants = ppm_powerplants.loc[ppm_powerplants[\"Fueltype\"]==\"Natural Gas\", :]"
   ]
  },
  {
   "cell_type": "code",
   "execution_count": null,
   "metadata": {},
   "outputs": [],
   "source": [
    "ppm_powerplants\n"
   ]
  },
  {
   "cell_type": "code",
   "execution_count": null,
   "metadata": {},
   "outputs": [],
   "source": []
  }
 ],
 "metadata": {
  "interpreter": {
   "hash": "36cf16204b8548560b1c020c4e8fb5b57f0e4c58016f52f2d4be01e192833930"
  },
  "kernelspec": {
   "display_name": "Python 3.9.5 64-bit",
   "language": "python",
   "name": "python3"
  },
  "language_info": {
   "codemirror_mode": {
    "name": "ipython",
    "version": 3
   },
   "file_extension": ".py",
   "mimetype": "text/x-python",
   "name": "python",
   "nbconvert_exporter": "python",
   "pygments_lexer": "ipython3",
   "version": "3.10.4"
  },
  "orig_nbformat": 4
 },
 "nbformat": 4,
 "nbformat_minor": 2
}
